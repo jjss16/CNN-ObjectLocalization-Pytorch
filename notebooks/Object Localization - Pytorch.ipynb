{
 "cells": [
  {
   "cell_type": "code",
   "execution_count": 2,
   "id": "744db4d5",
   "metadata": {},
   "outputs": [
    {
     "name": "stderr",
     "output_type": "stream",
     "text": [
      "Cloning into 'object-localization-dataset'...\n"
     ]
    }
   ],
   "source": [
    "!git clone https://github.com/parth1620/object-localization-dataset.git"
   ]
  },
  {
   "cell_type": "code",
   "execution_count": 1,
   "id": "b262a9aa",
   "metadata": {},
   "outputs": [],
   "source": [
    "import pandas as pd\n",
    "import numpy as np\n",
    "import cv2\n",
    "import matplotlib.pyplot as plt\n",
    "import torch\n",
    "\n",
    "from sklearn.model_selection import train_test_split\n",
    "from sklearn.preprocessing import LabelEncoder"
   ]
  },
  {
   "cell_type": "markdown",
   "id": "87c343fb",
   "metadata": {},
   "source": [
    "## Configuration"
   ]
  },
  {
   "cell_type": "code",
   "execution_count": 2,
   "id": "0783c381",
   "metadata": {},
   "outputs": [],
   "source": [
    "CSV_FILE = './object-localization-dataset/train.csv'\n",
    "DATA_DIR = './object-localization-dataset/'\n",
    "\n",
    "DEVICE = 'cuda'\n",
    "BATCH_SIZE = 16\n",
    "IMG_SIZE = 140\n",
    "\n",
    "LR = 0.001 #\n",
    "EPOCHS = 40\n",
    "MODEL_NAME = 'efficientnet_b0'\n",
    "\n",
    "NUM_COR = 4"
   ]
  },
  {
   "cell_type": "code",
   "execution_count": 3,
   "id": "3b9fea1a",
   "metadata": {},
   "outputs": [
    {
     "data": {
      "text/html": [
       "<div>\n",
       "<style scoped>\n",
       "    .dataframe tbody tr th:only-of-type {\n",
       "        vertical-align: middle;\n",
       "    }\n",
       "\n",
       "    .dataframe tbody tr th {\n",
       "        vertical-align: top;\n",
       "    }\n",
       "\n",
       "    .dataframe thead th {\n",
       "        text-align: right;\n",
       "    }\n",
       "</style>\n",
       "<table border=\"1\" class=\"dataframe\">\n",
       "  <thead>\n",
       "    <tr style=\"text-align: right;\">\n",
       "      <th></th>\n",
       "      <th>img_path</th>\n",
       "      <th>xmin</th>\n",
       "      <th>ymin</th>\n",
       "      <th>xmax</th>\n",
       "      <th>ymax</th>\n",
       "      <th>width</th>\n",
       "      <th>height</th>\n",
       "      <th>label</th>\n",
       "    </tr>\n",
       "  </thead>\n",
       "  <tbody>\n",
       "    <tr>\n",
       "      <th>0</th>\n",
       "      <td>train_images/mushroom_51.jpg</td>\n",
       "      <td>24</td>\n",
       "      <td>23</td>\n",
       "      <td>202</td>\n",
       "      <td>183</td>\n",
       "      <td>227</td>\n",
       "      <td>227</td>\n",
       "      <td>mushroom</td>\n",
       "    </tr>\n",
       "    <tr>\n",
       "      <th>1</th>\n",
       "      <td>train_images/eggplant_37.jpg</td>\n",
       "      <td>34</td>\n",
       "      <td>34</td>\n",
       "      <td>88</td>\n",
       "      <td>201</td>\n",
       "      <td>227</td>\n",
       "      <td>227</td>\n",
       "      <td>eggplant</td>\n",
       "    </tr>\n",
       "    <tr>\n",
       "      <th>2</th>\n",
       "      <td>train_images/mushroom_20.jpg</td>\n",
       "      <td>49</td>\n",
       "      <td>86</td>\n",
       "      <td>183</td>\n",
       "      <td>185</td>\n",
       "      <td>227</td>\n",
       "      <td>227</td>\n",
       "      <td>mushroom</td>\n",
       "    </tr>\n",
       "    <tr>\n",
       "      <th>3</th>\n",
       "      <td>train_images/eggplant_51.jpg</td>\n",
       "      <td>51</td>\n",
       "      <td>59</td>\n",
       "      <td>191</td>\n",
       "      <td>164</td>\n",
       "      <td>227</td>\n",
       "      <td>227</td>\n",
       "      <td>eggplant</td>\n",
       "    </tr>\n",
       "    <tr>\n",
       "      <th>4</th>\n",
       "      <td>train_images/eggplant_26.jpg</td>\n",
       "      <td>40</td>\n",
       "      <td>70</td>\n",
       "      <td>179</td>\n",
       "      <td>168</td>\n",
       "      <td>227</td>\n",
       "      <td>227</td>\n",
       "      <td>eggplant</td>\n",
       "    </tr>\n",
       "  </tbody>\n",
       "</table>\n",
       "</div>"
      ],
      "text/plain": [
       "                       img_path  xmin  ymin  xmax  ymax  width  height  \\\n",
       "0  train_images/mushroom_51.jpg    24    23   202   183    227     227   \n",
       "1  train_images/eggplant_37.jpg    34    34    88   201    227     227   \n",
       "2  train_images/mushroom_20.jpg    49    86   183   185    227     227   \n",
       "3  train_images/eggplant_51.jpg    51    59   191   164    227     227   \n",
       "4  train_images/eggplant_26.jpg    40    70   179   168    227     227   \n",
       "\n",
       "      label  \n",
       "0  mushroom  \n",
       "1  eggplant  \n",
       "2  mushroom  \n",
       "3  eggplant  \n",
       "4  eggplant  "
      ]
     },
     "execution_count": 3,
     "metadata": {},
     "output_type": "execute_result"
    }
   ],
   "source": [
    "df = pd.read_csv(CSV_FILE)\n",
    "df.head()"
   ]
  },
  {
   "cell_type": "code",
   "execution_count": 57,
   "id": "90844a26",
   "metadata": {
    "scrolled": true
   },
   "outputs": [
    {
     "data": {
      "text/plain": [
       "cucumber    63\n",
       "eggplant    62\n",
       "mushroom    61\n",
       "Name: label, dtype: int64"
      ]
     },
     "execution_count": 57,
     "metadata": {},
     "output_type": "execute_result"
    }
   ],
   "source": [
    "df['label'].value_counts()"
   ]
  },
  {
   "cell_type": "code",
   "execution_count": 70,
   "id": "f373a217",
   "metadata": {},
   "outputs": [
    {
     "data": {
      "text/plain": [
       "(179, 202)"
      ]
     },
     "execution_count": 70,
     "metadata": {},
     "output_type": "execute_result"
    }
   ],
   "source": [
    "(row.xmin,row.xmax)\n",
    "(row.xmax, row.ymax)"
   ]
  },
  {
   "cell_type": "markdown",
   "id": "1dbf513c",
   "metadata": {},
   "source": [
    "## Understand Dataset"
   ]
  },
  {
   "cell_type": "code",
   "execution_count": 67,
   "id": "0d93c274",
   "metadata": {},
   "outputs": [
    {
     "data": {
      "text/plain": [
       "<matplotlib.image.AxesImage at 0x28469e83700>"
      ]
     },
     "execution_count": 67,
     "metadata": {},
     "output_type": "execute_result"
    },
    {
     "data": {
      "image/png": "[encoded data removed]",
      "text/plain": [
       "<Figure size 432x288 with 1 Axes>"
      ]
     },
     "metadata": {
      "needs_background": "light"
     },
     "output_type": "display_data"
    }
   ],
   "source": [
    "row = df.iloc[10]\n",
    "img = cv2.imread(DATA_DIR + row.img_path)\n",
    "img = cv2.cvtColor(img,cv2.COLOR_BGR2RGB)\n",
    "plt.imshow(img)"
   ]
  },
  {
   "cell_type": "code",
   "execution_count": 71,
   "id": "4fa65875",
   "metadata": {},
   "outputs": [
    {
     "data": {
      "text/plain": [
       "<matplotlib.image.AxesImage at 0x28469e70070>"
      ]
     },
     "execution_count": 71,
     "metadata": {},
     "output_type": "execute_result"
    },
    {
     "data": {
      "image/png": "[encoded data removed]",
      "text/plain": [
       "<Figure size 432x288 with 1 Axes>"
      ]
     },
     "metadata": {
      "needs_background": "light"
     },
     "output_type": "display_data"
    }
   ],
   "source": [
    "row = df.iloc[10]\n",
    "img = cv2.imread(DATA_DIR + row.img_path)\n",
    "img = cv2.cvtColor(img, cv2.COLOR_BGR2RGB)\n",
    "\n",
    "pl1 = (row.xmin, row.ymin)\n",
    "pl2 = (row.xmax, row.ymax)\n",
    "bnd_box_img = cv2.rectangle(img, pl1,pl2,(255,0,0),2)\n",
    "\n",
    "plt.imshow(bnd_box_img)"
   ]
  },
  {
   "cell_type": "code",
   "execution_count": 5,
   "id": "14e4d2f2",
   "metadata": {},
   "outputs": [],
   "source": [
    "train_df, valid_df = train_test_split(df,test_size=0.2,random_state=42)"
   ]
  },
  {
   "cell_type": "markdown",
   "id": "0de74108",
   "metadata": {},
   "source": [
    "## Augmentations"
   ]
  },
  {
   "cell_type": "code",
   "execution_count": 6,
   "id": "2fb00c71",
   "metadata": {},
   "outputs": [],
   "source": [
    "import albumentations as A "
   ]
  },
  {
   "cell_type": "code",
   "execution_count": 7,
   "id": "b09e3157",
   "metadata": {},
   "outputs": [],
   "source": [
    "train_augs = A.Compose([\n",
    "    A.Resize(IMG_SIZE, IMG_SIZE),\n",
    "    A.HorizontalFlip( p = 0.5),\n",
    "    A.VerticalFlip(p = 0.5),\n",
    "    A.Rotate() #probability p = 0.5 default\n",
    "], bbox_params=A.BboxParams(format= 'pascal_voc',label_fields = ['class_labels']))\n",
    "\n",
    "valid_augs = A.Compose([\n",
    "    A.Resize(IMG_SIZE, IMG_SIZE),\n",
    "    A.HorizontalFlip( p = 0.5),\n",
    "    A.VerticalFlip(p = 0.5),\n",
    "    A.Rotate()\n",
    "], bbox_params=A.BboxParams(format= 'pascal_voc', label_fields = ['class_labels']))"
   ]
  },
  {
   "cell_type": "markdown",
   "id": "ad7f262e",
   "metadata": {},
   "source": [
    "## Create Custom Dataset"
   ]
  },
  {
   "cell_type": "code",
   "execution_count": 8,
   "id": "1df63f01",
   "metadata": {},
   "outputs": [],
   "source": [
    "class ObjLocDataset(torch.utils.data.Dataset):\n",
    "    \n",
    "    def __init__(self, df, augmentations = None):\n",
    "        self.df = df\n",
    "        self.augmentations = augmentations\n",
    "        \n",
    "    def __len__(self):\n",
    "        return len(self.df)\n",
    "    \n",
    "    def __getitem__(self, idx):\n",
    "        row = self.df.iloc[idx]\n",
    "        xmin = row.xmin\n",
    "        ymin = row.ymin\n",
    "        xmax = row.xmax\n",
    "        ymax = row.ymax\n",
    "        \n",
    "        bbox = [[xmin,ymin,xmax,ymax]]\n",
    "        \n",
    "        img_path = DATA_DIR + row.img_path\n",
    "        img = cv2.imread(img_path)\n",
    "        img = cv2.cvtColor(img, cv2.COLOR_BGR2RGB)\n",
    "        \n",
    "        if self.augmentations:\n",
    "            data = self.augmentations(image = img, bboxes = bbox, class_labels = [None])\n",
    "            img = data['image']\n",
    "            bbox = data['bboxes'][0]\n",
    "            \n",
    "        img = torch.from_numpy(img).permute(2,0,1)/255.0 #(h,w,c) --> (c,h,w)\n",
    "        bbox = torch.Tensor(bbox)\n",
    "        \n",
    "        return img,bbox"
   ]
  },
  {
   "cell_type": "code",
   "execution_count": 9,
   "id": "00ca04d7",
   "metadata": {},
   "outputs": [],
   "source": [
    "trainset = ObjLocDataset(train_df,train_augs)\n",
    "validset = ObjLocDataset(valid_df, valid_augs)"
   ]
  },
  {
   "cell_type": "code",
   "execution_count": 10,
   "id": "7e4fdc3a",
   "metadata": {},
   "outputs": [
    {
     "name": "stdout",
     "output_type": "stream",
     "text": [
      "Total Examples in trainset 148\n",
      "Total Examples in validset 38\n"
     ]
    }
   ],
   "source": [
    "print(f'Total Examples in trainset {len(trainset)}')\n",
    "print(f'Total Examples in validset {len(validset)}')"
   ]
  },
  {
   "cell_type": "code",
   "execution_count": 11,
   "id": "79a93c5f",
   "metadata": {},
   "outputs": [
    {
     "name": "stderr",
     "output_type": "stream",
     "text": [
      "Clipping input data to the valid range for imshow with RGB data ([0..1] for floats or [0..255] for integers).\n"
     ]
    },
    {
     "data": {
      "text/plain": [
       "<matplotlib.image.AxesImage at 0x28463a36df0>"
      ]
     },
     "execution_count": 11,
     "metadata": {},
     "output_type": "execute_result"
    },
    {
     "data": {
      "image/png": "[encoded data removed]",
      "text/plain": [
       "<Figure size 432x288 with 1 Axes>"
      ]
     },
     "metadata": {
      "needs_background": "light"
     },
     "output_type": "display_data"
    }
   ],
   "source": [
    "img,bbox = trainset[120]\n",
    "\n",
    "xmin, ymin, xmax, ymax = bbox\n",
    "\n",
    "pt1 = (int(xmin),int(ymin))\n",
    "pt2 = (int(xmax), int(ymax))\n",
    "\n",
    "bnd_box_img = cv2.rectangle(img.permute(1,2,0).numpy(), pt1,pt2,(255,0,0),2)\n",
    "plt.imshow(bnd_box_img)"
   ]
  },
  {
   "cell_type": "markdown",
   "id": "df3effd3",
   "metadata": {},
   "source": [
    "## LOAD Dataset in batches"
   ]
  },
  {
   "cell_type": "code",
   "execution_count": 12,
   "id": "20a5fce7",
   "metadata": {},
   "outputs": [
    {
     "name": "stdout",
     "output_type": "stream",
     "text": [
      "total no. batches in trainloader 10\n",
      "total no. batches in validloader 3\n"
     ]
    }
   ],
   "source": [
    "trainloader = torch.utils.data.DataLoader(trainset,BATCH_SIZE, shuffle=True) \n",
    "validloader = torch.utils.data.DataLoader(validset,BATCH_SIZE, shuffle=False) \n",
    "\n",
    "print(f'total no. batches in trainloader {len(trainloader)}')\n",
    "print(f'total no. batches in validloader {len(validloader)}')"
   ]
  },
  {
   "cell_type": "code",
   "execution_count": 21,
   "id": "4fe14a83",
   "metadata": {
    "scrolled": true
   },
   "outputs": [
    {
     "name": "stdout",
     "output_type": "stream",
     "text": [
      "shape of one batch images torch.Size([16, 3, 140, 140])\n",
      "shape of one batch bbox torch.Size([16, 4])\n"
     ]
    }
   ],
   "source": [
    "for image, bbox in trainloader:\n",
    "    break\n",
    "    \n",
    "print(f'shape of one batch images {image.shape}')\n",
    "print(f'shape of one batch bbox {bbox.shape}')"
   ]
  },
  {
   "cell_type": "markdown",
   "id": "b7ac05ea",
   "metadata": {},
   "source": [
    "## CREATE MODEL"
   ]
  },
  {
   "cell_type": "code",
   "execution_count": 23,
   "id": "286c3f2b",
   "metadata": {},
   "outputs": [],
   "source": [
    "from torch import nn\n",
    "import timm"
   ]
  },
  {
   "cell_type": "code",
   "execution_count": 42,
   "id": "0765bd40",
   "metadata": {
    "scrolled": true
   },
   "outputs": [],
   "source": [
    "class ObjLocModel(nn.Module):\n",
    "    \n",
    "    def __init__(self):\n",
    "        super(ObjLocModel, self).__init__()\n",
    "        \n",
    "        self.backbone = timm.create_model(MODEL_NAME, pretrained=True, num_classes = 4)\n",
    "    \n",
    "    def forward(self, images, gt_bboxes = None):\n",
    "        bboxes = self.backbone(images)\n",
    "        \n",
    "        if gt_bboxes != None:\n",
    "            loss = nn.MSELoss()(bboxes, gt_bboxes)\n",
    "            return bboxes, loss\n",
    "    \n",
    "        return bboxes\n",
    "    \n",
    "model = ObjLocModel()\n",
    "model.to(DEVICE);"
   ]
  },
  {
   "cell_type": "code",
   "execution_count": 46,
   "id": "a4499102",
   "metadata": {},
   "outputs": [
    {
     "data": {
      "text/plain": [
       "tensor([[ 1.6243,  1.8732, -2.6611,  1.1265]], device='cuda:0',\n",
       "       grad_fn=<AddmmBackward0>)"
      ]
     },
     "execution_count": 46,
     "metadata": {},
     "output_type": "execute_result"
    }
   ],
   "source": [
    "#test\n",
    "random_img = torch.rand(1, 3, 140, 140).to(DEVICE)\n",
    "model(random_img)"
   ]
  },
  {
   "cell_type": "markdown",
   "id": "c5cb639f",
   "metadata": {},
   "source": [
    "## CREATE TRAIN AND EVAL FUNCTION"
   ]
  },
  {
   "cell_type": "code",
   "execution_count": 73,
   "id": "77ffe615",
   "metadata": {},
   "outputs": [],
   "source": [
    "from tqdm import tqdm"
   ]
  },
  {
   "cell_type": "code",
   "execution_count": 75,
   "id": "922ef8d6",
   "metadata": {},
   "outputs": [
    {
     "data": {
      "text/plain": [
       "10"
      ]
     },
     "execution_count": 75,
     "metadata": {},
     "output_type": "execute_result"
    }
   ],
   "source": [
    "len(trainloader)"
   ]
  },
  {
   "cell_type": "code",
   "execution_count": 47,
   "id": "22af07f2",
   "metadata": {},
   "outputs": [],
   "source": [
    "def train_fn(model, dataloader, optimizer):\n",
    "    total_loss = 0.0\n",
    "    model.train() #DROPOUT ON \n",
    "    \n",
    "    for data in tqdm(dataloader):\n",
    "        \n",
    "        images, gt_bboxes = data\n",
    "        images, gt_bboxes =images.to(DEVICE), gt_bboxes.to(DEVICE)\n",
    "        \n",
    "        bboxes, loss = model(images, gt_bboxes)\n",
    "        \n",
    "        optimizer.zero_grad()\n",
    "        loss.backward()\n",
    "        optimizer.step()\n",
    "        \n",
    "        total_loss += loss.item()\n",
    "        \n",
    "    return total_loss / len(dataloader)"
   ]
  },
  {
   "cell_type": "code",
   "execution_count": 78,
   "id": "b1e5d325",
   "metadata": {},
   "outputs": [],
   "source": [
    "def eval_fn(model, dataloader):\n",
    "    total_loss = 0.0\n",
    "    model.eval() #DROPout Off \n",
    "    \n",
    "    with torch.no_grad():\n",
    "            \n",
    "        for data in tqdm(dataloader):\n",
    "\n",
    "            images, gt_bboxes = data\n",
    "            images, gt_bboxes =images.to(DEVICE), gt_bboxes.to(DEVICE)\n",
    "\n",
    "            bboxes, loss = model(images, gt_bboxes)\n",
    "            total_loss += loss.item()\n",
    "\n",
    "        return total_loss / len(dataloader)"
   ]
  },
  {
   "cell_type": "markdown",
   "id": "67bc19d5",
   "metadata": {},
   "source": [
    "## TRAINING LOOP "
   ]
  },
  {
   "cell_type": "code",
   "execution_count": 79,
   "id": "fc1da8f6",
   "metadata": {},
   "outputs": [],
   "source": [
    "optimizer = torch.optim.Adam(model.parameters(), lr= LR)"
   ]
  },
  {
   "cell_type": "code",
   "execution_count": 80,
   "id": "b99e60ee",
   "metadata": {
    "scrolled": false
   },
   "outputs": [
    {
     "name": "stderr",
     "output_type": "stream",
     "text": [
      "100%|██████████████████████████████████████████████████████████████████████████████████| 10/10 [00:02<00:00,  3.99it/s]\n",
      "100%|████████████████████████████████████████████████████████████████████████████████████| 3/3 [00:00<00:00, 16.12it/s]\n"
     ]
    },
    {
     "name": "stdout",
     "output_type": "stream",
     "text": [
      "WEIGHTS SAVED\n",
      "Epoch: 1, Train Loss : 2041.0144897460937, Valid Loss : 388.7235107421875\n"
     ]
    },
    {
     "name": "stderr",
     "output_type": "stream",
     "text": [
      "100%|██████████████████████████████████████████████████████████████████████████████████| 10/10 [00:01<00:00,  9.27it/s]\n",
      "100%|████████████████████████████████████████████████████████████████████████████████████| 3/3 [00:00<00:00, 19.10it/s]\n"
     ]
    },
    {
     "name": "stdout",
     "output_type": "stream",
     "text": [
      "Epoch: 2, Train Loss : 1125.044207763672, Valid Loss : 681.6792602539062\n"
     ]
    },
    {
     "name": "stderr",
     "output_type": "stream",
     "text": [
      "100%|██████████████████████████████████████████████████████████████████████████████████| 10/10 [00:01<00:00,  9.41it/s]\n",
      "100%|████████████████████████████████████████████████████████████████████████████████████| 3/3 [00:00<00:00, 19.35it/s]\n"
     ]
    },
    {
     "name": "stdout",
     "output_type": "stream",
     "text": [
      "WEIGHTS SAVED\n",
      "Epoch: 3, Train Loss : 752.2690551757812, Valid Loss : 272.62969970703125\n"
     ]
    },
    {
     "name": "stderr",
     "output_type": "stream",
     "text": [
      "100%|██████████████████████████████████████████████████████████████████████████████████| 10/10 [00:01<00:00,  8.97it/s]\n",
      "100%|████████████████████████████████████████████████████████████████████████████████████| 3/3 [00:00<00:00, 19.86it/s]\n"
     ]
    },
    {
     "name": "stdout",
     "output_type": "stream",
     "text": [
      "WEIGHTS SAVED\n",
      "Epoch: 4, Train Loss : 511.3083221435547, Valid Loss : 175.84196980794272\n"
     ]
    },
    {
     "name": "stderr",
     "output_type": "stream",
     "text": [
      "100%|██████████████████████████████████████████████████████████████████████████████████| 10/10 [00:01<00:00,  9.47it/s]\n",
      "100%|████████████████████████████████████████████████████████████████████████████████████| 3/3 [00:00<00:00, 20.97it/s]\n"
     ]
    },
    {
     "name": "stdout",
     "output_type": "stream",
     "text": [
      "WEIGHTS SAVED\n",
      "Epoch: 5, Train Loss : 427.6407806396484, Valid Loss : 160.45630391438803\n"
     ]
    },
    {
     "name": "stderr",
     "output_type": "stream",
     "text": [
      "100%|██████████████████████████████████████████████████████████████████████████████████| 10/10 [00:01<00:00,  9.53it/s]\n",
      "100%|████████████████████████████████████████████████████████████████████████████████████| 3/3 [00:00<00:00, 23.62it/s]\n"
     ]
    },
    {
     "name": "stdout",
     "output_type": "stream",
     "text": [
      "WEIGHTS SAVED\n",
      "Epoch: 6, Train Loss : 266.11353912353513, Valid Loss : 160.13369750976562\n"
     ]
    },
    {
     "name": "stderr",
     "output_type": "stream",
     "text": [
      "100%|██████████████████████████████████████████████████████████████████████████████████| 10/10 [00:00<00:00, 11.85it/s]\n",
      "100%|████████████████████████████████████████████████████████████████████████████████████| 3/3 [00:00<00:00, 25.42it/s]\n"
     ]
    },
    {
     "name": "stdout",
     "output_type": "stream",
     "text": [
      "Epoch: 7, Train Loss : 211.522509765625, Valid Loss : 210.0559539794922\n"
     ]
    },
    {
     "name": "stderr",
     "output_type": "stream",
     "text": [
      "100%|██████████████████████████████████████████████████████████████████████████████████| 10/10 [00:00<00:00, 12.07it/s]\n",
      "100%|████████████████████████████████████████████████████████████████████████████████████| 3/3 [00:00<00:00, 27.27it/s]\n"
     ]
    },
    {
     "name": "stdout",
     "output_type": "stream",
     "text": [
      "Epoch: 8, Train Loss : 173.22108764648436, Valid Loss : 238.31675720214844\n"
     ]
    },
    {
     "name": "stderr",
     "output_type": "stream",
     "text": [
      "100%|██████████████████████████████████████████████████████████████████████████████████| 10/10 [00:00<00:00, 11.85it/s]\n",
      "100%|████████████████████████████████████████████████████████████████████████████████████| 3/3 [00:00<00:00, 24.19it/s]\n"
     ]
    },
    {
     "name": "stdout",
     "output_type": "stream",
     "text": [
      "WEIGHTS SAVED\n",
      "Epoch: 9, Train Loss : 162.6290252685547, Valid Loss : 131.05784606933594\n"
     ]
    },
    {
     "name": "stderr",
     "output_type": "stream",
     "text": [
      "100%|██████████████████████████████████████████████████████████████████████████████████| 10/10 [00:00<00:00, 11.89it/s]\n",
      "100%|████████████████████████████████████████████████████████████████████████████████████| 3/3 [00:00<00:00, 24.79it/s]\n"
     ]
    },
    {
     "name": "stdout",
     "output_type": "stream",
     "text": [
      "Epoch: 10, Train Loss : 118.4821891784668, Valid Loss : 131.97565460205078\n"
     ]
    },
    {
     "name": "stderr",
     "output_type": "stream",
     "text": [
      "100%|██████████████████████████████████████████████████████████████████████████████████| 10/10 [00:00<00:00, 11.73it/s]\n",
      "100%|████████████████████████████████████████████████████████████████████████████████████| 3/3 [00:00<00:00, 25.42it/s]\n"
     ]
    },
    {
     "name": "stdout",
     "output_type": "stream",
     "text": [
      "WEIGHTS SAVED\n",
      "Epoch: 11, Train Loss : 112.38937301635742, Valid Loss : 118.60028839111328\n"
     ]
    },
    {
     "name": "stderr",
     "output_type": "stream",
     "text": [
      "100%|██████████████████████████████████████████████████████████████████████████████████| 10/10 [00:00<00:00, 12.01it/s]\n",
      "100%|████████████████████████████████████████████████████████████████████████████████████| 3/3 [00:00<00:00, 26.29it/s]\n"
     ]
    },
    {
     "name": "stdout",
     "output_type": "stream",
     "text": [
      "WEIGHTS SAVED\n",
      "Epoch: 12, Train Loss : 86.40477066040039, Valid Loss : 96.5638936360677\n"
     ]
    },
    {
     "name": "stderr",
     "output_type": "stream",
     "text": [
      "100%|██████████████████████████████████████████████████████████████████████████████████| 10/10 [00:00<00:00, 11.80it/s]\n",
      "100%|████████████████████████████████████████████████████████████████████████████████████| 3/3 [00:00<00:00, 26.08it/s]\n"
     ]
    },
    {
     "name": "stdout",
     "output_type": "stream",
     "text": [
      "Epoch: 13, Train Loss : 94.23214569091797, Valid Loss : 98.14862060546875\n"
     ]
    },
    {
     "name": "stderr",
     "output_type": "stream",
     "text": [
      "100%|██████████████████████████████████████████████████████████████████████████████████| 10/10 [00:00<00:00, 11.74it/s]\n",
      "100%|████████████████████████████████████████████████████████████████████████████████████| 3/3 [00:00<00:00, 25.86it/s]\n"
     ]
    },
    {
     "name": "stdout",
     "output_type": "stream",
     "text": [
      "Epoch: 14, Train Loss : 93.350825881958, Valid Loss : 138.1448974609375\n"
     ]
    },
    {
     "name": "stderr",
     "output_type": "stream",
     "text": [
      "100%|██████████████████████████████████████████████████████████████████████████████████| 10/10 [00:00<00:00, 12.01it/s]\n",
      "100%|████████████████████████████████████████████████████████████████████████████████████| 3/3 [00:00<00:00, 27.27it/s]\n"
     ]
    },
    {
     "name": "stdout",
     "output_type": "stream",
     "text": [
      "WEIGHTS SAVED\n",
      "Epoch: 15, Train Loss : 87.08510971069336, Valid Loss : 61.47418975830078\n"
     ]
    },
    {
     "name": "stderr",
     "output_type": "stream",
     "text": [
      "100%|██████████████████████████████████████████████████████████████████████████████████| 10/10 [00:00<00:00, 12.08it/s]\n",
      "100%|████████████████████████████████████████████████████████████████████████████████████| 3/3 [00:00<00:00, 24.79it/s]\n"
     ]
    },
    {
     "name": "stdout",
     "output_type": "stream",
     "text": [
      "Epoch: 16, Train Loss : 90.38265342712403, Valid Loss : 78.44502385457356\n"
     ]
    },
    {
     "name": "stderr",
     "output_type": "stream",
     "text": [
      "100%|██████████████████████████████████████████████████████████████████████████████████| 10/10 [00:00<00:00, 11.63it/s]\n",
      "100%|████████████████████████████████████████████████████████████████████████████████████| 3/3 [00:00<00:00, 24.19it/s]\n"
     ]
    },
    {
     "name": "stdout",
     "output_type": "stream",
     "text": [
      "Epoch: 17, Train Loss : 83.48845062255859, Valid Loss : 91.13020324707031\n"
     ]
    },
    {
     "name": "stderr",
     "output_type": "stream",
     "text": [
      "100%|██████████████████████████████████████████████████████████████████████████████████| 10/10 [00:00<00:00, 11.86it/s]\n",
      "100%|████████████████████████████████████████████████████████████████████████████████████| 3/3 [00:00<00:00, 25.03it/s]\n"
     ]
    },
    {
     "name": "stdout",
     "output_type": "stream",
     "text": [
      "Epoch: 18, Train Loss : 79.27789993286133, Valid Loss : 97.82051849365234\n"
     ]
    },
    {
     "name": "stderr",
     "output_type": "stream",
     "text": [
      "100%|██████████████████████████████████████████████████████████████████████████████████| 10/10 [00:00<00:00, 11.58it/s]\n",
      "100%|████████████████████████████████████████████████████████████████████████████████████| 3/3 [00:00<00:00, 23.87it/s]\n"
     ]
    },
    {
     "name": "stdout",
     "output_type": "stream",
     "text": [
      "Epoch: 19, Train Loss : 76.1959384918213, Valid Loss : 119.23203531901042\n"
     ]
    },
    {
     "name": "stderr",
     "output_type": "stream",
     "text": [
      "100%|██████████████████████████████████████████████████████████████████████████████████| 10/10 [00:00<00:00, 11.85it/s]\n",
      "100%|████████████████████████████████████████████████████████████████████████████████████| 3/3 [00:00<00:00, 24.39it/s]\n"
     ]
    },
    {
     "name": "stdout",
     "output_type": "stream",
     "text": [
      "Epoch: 20, Train Loss : 74.80194282531738, Valid Loss : 95.3369649251302\n"
     ]
    },
    {
     "name": "stderr",
     "output_type": "stream",
     "text": [
      "100%|██████████████████████████████████████████████████████████████████████████████████| 10/10 [00:00<00:00, 11.46it/s]\n",
      "100%|████████████████████████████████████████████████████████████████████████████████████| 3/3 [00:00<00:00, 24.38it/s]\n"
     ]
    },
    {
     "name": "stdout",
     "output_type": "stream",
     "text": [
      "WEIGHTS SAVED\n",
      "Epoch: 21, Train Loss : 50.72020225524902, Valid Loss : 59.737561543782554\n"
     ]
    },
    {
     "name": "stderr",
     "output_type": "stream",
     "text": [
      "100%|██████████████████████████████████████████████████████████████████████████████████| 10/10 [00:00<00:00, 11.96it/s]\n",
      "100%|████████████████████████████████████████████████████████████████████████████████████| 3/3 [00:00<00:00, 25.42it/s]\n"
     ]
    },
    {
     "name": "stdout",
     "output_type": "stream",
     "text": [
      "Epoch: 22, Train Loss : 51.617683792114256, Valid Loss : 72.01501719156902\n"
     ]
    },
    {
     "name": "stderr",
     "output_type": "stream",
     "text": [
      "100%|██████████████████████████████████████████████████████████████████████████████████| 10/10 [00:00<00:00, 12.18it/s]\n",
      "100%|████████████████████████████████████████████████████████████████████████████████████| 3/3 [00:00<00:00, 26.54it/s]\n"
     ]
    },
    {
     "name": "stdout",
     "output_type": "stream",
     "text": [
      "Epoch: 23, Train Loss : 51.52217426300049, Valid Loss : 85.19226964314778\n"
     ]
    },
    {
     "name": "stderr",
     "output_type": "stream",
     "text": [
      "100%|██████████████████████████████████████████████████████████████████████████████████| 10/10 [00:00<00:00, 12.34it/s]\n",
      "100%|████████████████████████████████████████████████████████████████████████████████████| 3/3 [00:00<00:00, 25.42it/s]\n"
     ]
    },
    {
     "name": "stdout",
     "output_type": "stream",
     "text": [
      "WEIGHTS SAVED\n",
      "Epoch: 24, Train Loss : 57.365380859375, Valid Loss : 55.116294860839844\n"
     ]
    },
    {
     "name": "stderr",
     "output_type": "stream",
     "text": [
      "100%|██████████████████████████████████████████████████████████████████████████████████| 10/10 [00:00<00:00, 11.57it/s]\n",
      "100%|████████████████████████████████████████████████████████████████████████████████████| 3/3 [00:00<00:00, 22.90it/s]\n"
     ]
    },
    {
     "name": "stdout",
     "output_type": "stream",
     "text": [
      "Epoch: 25, Train Loss : 54.82055320739746, Valid Loss : 63.98670450846354\n"
     ]
    },
    {
     "name": "stderr",
     "output_type": "stream",
     "text": [
      "100%|██████████████████████████████████████████████████████████████████████████████████| 10/10 [00:00<00:00, 12.21it/s]\n",
      "100%|████████████████████████████████████████████████████████████████████████████████████| 3/3 [00:00<00:00, 24.99it/s]\n"
     ]
    },
    {
     "name": "stdout",
     "output_type": "stream",
     "text": [
      "Epoch: 26, Train Loss : 51.34669494628906, Valid Loss : 63.404534657796226\n"
     ]
    },
    {
     "name": "stderr",
     "output_type": "stream",
     "text": [
      "100%|██████████████████████████████████████████████████████████████████████████████████| 10/10 [00:00<00:00, 11.56it/s]\n",
      "100%|████████████████████████████████████████████████████████████████████████████████████| 3/3 [00:00<00:00, 25.20it/s]\n"
     ]
    },
    {
     "name": "stdout",
     "output_type": "stream",
     "text": [
      "Epoch: 27, Train Loss : 46.76480407714844, Valid Loss : 67.96488825480144\n"
     ]
    },
    {
     "name": "stderr",
     "output_type": "stream",
     "text": [
      "100%|██████████████████████████████████████████████████████████████████████████████████| 10/10 [00:00<00:00, 11.79it/s]\n",
      "100%|████████████████████████████████████████████████████████████████████████████████████| 3/3 [00:00<00:00, 24.58it/s]\n"
     ]
    },
    {
     "name": "stdout",
     "output_type": "stream",
     "text": [
      "Epoch: 28, Train Loss : 45.05944633483887, Valid Loss : 63.43053944905599\n"
     ]
    },
    {
     "name": "stderr",
     "output_type": "stream",
     "text": [
      "100%|██████████████████████████████████████████████████████████████████████████████████| 10/10 [00:00<00:00, 12.19it/s]\n",
      "100%|████████████████████████████████████████████████████████████████████████████████████| 3/3 [00:00<00:00, 23.99it/s]\n"
     ]
    },
    {
     "name": "stdout",
     "output_type": "stream",
     "text": [
      "Epoch: 29, Train Loss : 50.473059844970706, Valid Loss : 63.663552602132164\n"
     ]
    },
    {
     "name": "stderr",
     "output_type": "stream",
     "text": [
      "100%|██████████████████████████████████████████████████████████████████████████████████| 10/10 [00:00<00:00, 11.63it/s]\n",
      "100%|████████████████████████████████████████████████████████████████████████████████████| 3/3 [00:00<00:00, 26.08it/s]\n"
     ]
    },
    {
     "name": "stdout",
     "output_type": "stream",
     "text": [
      "Epoch: 30, Train Loss : 47.74992122650146, Valid Loss : 78.94308471679688\n"
     ]
    },
    {
     "name": "stderr",
     "output_type": "stream",
     "text": [
      "100%|██████████████████████████████████████████████████████████████████████████████████| 10/10 [00:00<00:00, 11.82it/s]\n",
      "100%|████████████████████████████████████████████████████████████████████████████████████| 3/3 [00:00<00:00, 22.72it/s]\n"
     ]
    },
    {
     "name": "stdout",
     "output_type": "stream",
     "text": [
      "Epoch: 31, Train Loss : 57.19524879455567, Valid Loss : 59.907413482666016\n"
     ]
    },
    {
     "name": "stderr",
     "output_type": "stream",
     "text": [
      "100%|██████████████████████████████████████████████████████████████████████████████████| 10/10 [00:00<00:00, 12.21it/s]\n",
      "100%|████████████████████████████████████████████████████████████████████████████████████| 3/3 [00:00<00:00, 25.20it/s]\n"
     ]
    },
    {
     "name": "stdout",
     "output_type": "stream",
     "text": [
      "Epoch: 32, Train Loss : 40.72172603607178, Valid Loss : 62.489888509114586\n"
     ]
    },
    {
     "name": "stderr",
     "output_type": "stream",
     "text": [
      "100%|██████████████████████████████████████████████████████████████████████████████████| 10/10 [00:00<00:00, 11.00it/s]\n",
      "100%|████████████████████████████████████████████████████████████████████████████████████| 3/3 [00:00<00:00, 23.07it/s]\n"
     ]
    },
    {
     "name": "stdout",
     "output_type": "stream",
     "text": [
      "WEIGHTS SAVED\n",
      "Epoch: 33, Train Loss : 73.97719993591309, Valid Loss : 48.063063303629555\n"
     ]
    },
    {
     "name": "stderr",
     "output_type": "stream",
     "text": [
      "100%|██████████████████████████████████████████████████████████████████████████████████| 10/10 [00:00<00:00, 10.54it/s]\n",
      "100%|████████████████████████████████████████████████████████████████████████████████████| 3/3 [00:00<00:00, 21.73it/s]\n"
     ]
    },
    {
     "name": "stdout",
     "output_type": "stream",
     "text": [
      "Epoch: 34, Train Loss : 45.70821590423584, Valid Loss : 81.36752319335938\n"
     ]
    },
    {
     "name": "stderr",
     "output_type": "stream",
     "text": [
      "100%|██████████████████████████████████████████████████████████████████████████████████| 10/10 [00:00<00:00, 10.26it/s]\n",
      "100%|████████████████████████████████████████████████████████████████████████████████████| 3/3 [00:00<00:00, 24.58it/s]\n"
     ]
    },
    {
     "name": "stdout",
     "output_type": "stream",
     "text": [
      "Epoch: 35, Train Loss : 39.87369632720947, Valid Loss : 72.86679967244466\n"
     ]
    },
    {
     "name": "stderr",
     "output_type": "stream",
     "text": [
      "100%|██████████████████████████████████████████████████████████████████████████████████| 10/10 [00:00<00:00, 11.35it/s]\n",
      "100%|████████████████████████████████████████████████████████████████████████████████████| 3/3 [00:00<00:00, 23.62it/s]\n"
     ]
    },
    {
     "name": "stdout",
     "output_type": "stream",
     "text": [
      "Epoch: 36, Train Loss : 43.971058464050294, Valid Loss : 60.44362131754557\n"
     ]
    },
    {
     "name": "stderr",
     "output_type": "stream",
     "text": [
      "100%|██████████████████████████████████████████████████████████████████████████████████| 10/10 [00:00<00:00, 11.57it/s]\n",
      "100%|████████████████████████████████████████████████████████████████████████████████████| 3/3 [00:00<00:00, 27.02it/s]\n"
     ]
    },
    {
     "name": "stdout",
     "output_type": "stream",
     "text": [
      "Epoch: 37, Train Loss : 39.670856666564944, Valid Loss : 63.67057673136393\n"
     ]
    },
    {
     "name": "stderr",
     "output_type": "stream",
     "text": [
      "100%|██████████████████████████████████████████████████████████████████████████████████| 10/10 [00:00<00:00, 11.92it/s]\n",
      "100%|████████████████████████████████████████████████████████████████████████████████████| 3/3 [00:00<00:00, 24.58it/s]\n"
     ]
    },
    {
     "name": "stdout",
     "output_type": "stream",
     "text": [
      "Epoch: 38, Train Loss : 42.39835186004639, Valid Loss : 66.55189005533855\n"
     ]
    },
    {
     "name": "stderr",
     "output_type": "stream",
     "text": [
      "100%|██████████████████████████████████████████████████████████████████████████████████| 10/10 [00:00<00:00, 13.61it/s]\n",
      "100%|████████████████████████████████████████████████████████████████████████████████████| 3/3 [00:00<00:00, 32.25it/s]\n"
     ]
    },
    {
     "name": "stdout",
     "output_type": "stream",
     "text": [
      "Epoch: 39, Train Loss : 45.27283086776733, Valid Loss : 63.24618275960287\n"
     ]
    },
    {
     "name": "stderr",
     "output_type": "stream",
     "text": [
      "100%|██████████████████████████████████████████████████████████████████████████████████| 10/10 [00:00<00:00, 13.29it/s]\n",
      "100%|████████████████████████████████████████████████████████████████████████████████████| 3/3 [00:00<00:00, 27.77it/s]"
     ]
    },
    {
     "name": "stdout",
     "output_type": "stream",
     "text": [
      "WEIGHTS SAVED\n",
      "Epoch: 40, Train Loss : 53.85730247497558, Valid Loss : 44.815185546875\n"
     ]
    },
    {
     "name": "stderr",
     "output_type": "stream",
     "text": [
      "\n"
     ]
    }
   ],
   "source": [
    "best_valid_loss = np.Inf\n",
    "\n",
    "for i in range(EPOCHS):\n",
    "    \n",
    "    train_loss = train_fn(model, trainloader, optimizer)\n",
    "    valid_loss = eval_fn(model, validloader)\n",
    "    \n",
    "    if valid_loss < best_valid_loss:\n",
    "        torch.save(model.state_dict(), 'best_model.pt')\n",
    "        print('WEIGHTS SAVED')\n",
    "        best_valid_loss = valid_loss\n",
    "        \n",
    "    print(f'Epoch: {i + 1}, Train Loss : {train_loss}, Valid Loss : {valid_loss}')"
   ]
  },
  {
   "cell_type": "code",
   "execution_count": 83,
   "id": "0d27309f",
   "metadata": {},
   "outputs": [],
   "source": [
    "import utils"
   ]
  },
  {
   "cell_type": "code",
   "execution_count": 88,
   "id": "41389a14",
   "metadata": {},
   "outputs": [
    {
     "name": "stderr",
     "output_type": "stream",
     "text": [
      "Clipping input data to the valid range for imshow with RGB data ([0..1] for floats or [0..255] for integers).\n"
     ]
    },
    {
     "data": {
      "image/png": "[encoded data removed]",
      "text/plain": [
       "<Figure size 432x288 with 1 Axes>"
      ]
     },
     "metadata": {
      "needs_background": "light"
     },
     "output_type": "display_data"
    }
   ],
   "source": [
    "model.load_state_dict(torch.load('best_model.pt'))\n",
    "model.eval()\n",
    "\n",
    "with torch.no_grad():\n",
    "    \n",
    "    image, gt_boox = validset[30] #(c, h, w)\n",
    "    #unsqueeze(0), It is used to add an extra dimension for batch as model takes (batch, channel, height, width)\n",
    "    image = image.unsqueeze(0).to(DEVICE) #(bs, c,h,w) #\n",
    "    out_bbox = model(image)\n",
    "    \n",
    "    utils.compare_plots(image, gt_boox, out_bbox)"
   ]
  },
  {
   "cell_type": "code",
   "execution_count": null,
   "id": "e01bcc08",
   "metadata": {},
   "outputs": [],
   "source": []
  }
 ],
 "metadata": {
  "kernelspec": {
   "display_name": "Python 3 (ipykernel)",
   "language": "python",
   "name": "python3"
  },
  "language_info": {
   "codemirror_mode": {
    "name": "ipython",
    "version": 3
   },
   "file_extension": ".py",
   "mimetype": "text/x-python",
   "name": "python",
   "nbconvert_exporter": "python",
   "pygments_lexer": "ipython3",
   "version": "3.9.7"
  }
 },
 "nbformat": 4,
 "nbformat_minor": 5
}
